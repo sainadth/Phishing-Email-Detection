{
  "cells": [
    {
      "cell_type": "code",
      "source": [
        "# Phishing Email Detection Using TF-IDF + SVM and Fine-tuned DistilBERT\n",
        "\n",
        "# 1. Imports\n",
        "import pandas as pd\n",
        "import numpy as np\n",
        "import matplotlib.pyplot as plt\n",
        "import seaborn as sns\n",
        "import joblib\n",
        "import re\n",
        "from bs4 import BeautifulSoup\n",
        "from sklearn.model_selection import train_test_split\n",
        "from sklearn.feature_extraction.text import TfidfVectorizer\n",
        "from sklearn.svm import SVC\n",
        "from sklearn.linear_model import LogisticRegression\n",
        "from sklearn.metrics import classification_report, confusion_matrix, precision_recall_fscore_support, accuracy_score\n",
        "from transformers import DistilBertTokenizerFast, DistilBertForSequenceClassification, Trainer, TrainingArguments\n",
        "import torch\n",
        "\n",
        "import kagglehub\n",
        "from kagglehub import KaggleDatasetAdapter"
      ],
      "metadata": {
        "id": "WkD2yUsmBm_J"
      },
      "execution_count": 5,
      "outputs": []
    },
    {
      "cell_type": "code",
      "source": [
        "# 2. Load Dataset\n",
        "# Dataset: phishing_email.csv from Kaggle\n",
        "\n",
        "# Set the path to the file you'd like to load\n",
        "file_path = \"phishing_email.csv\"\n",
        "\n",
        "# Load the latest version\n",
        "df = kagglehub.load_dataset(\n",
        "  KaggleDatasetAdapter.PANDAS,\n",
        "  \"naserabdullahalam/phishing-email-dataset\",\n",
        "  file_path,\n",
        "  # Provide any additional arguments like\n",
        "  # sql_query or pandas_kwargs. See the\n",
        "  # documenation for more information:\n",
        "  # https://github.com/Kaggle/kagglehub/blob/main/README.md#kaggledatasetadapterpandas\n",
        ")\n",
        "\n",
        "# Rename columns to match expected names\n",
        "df.rename(columns={'text_combined': 'body', 'label': 'label'}, inplace=True)\n",
        "\n",
        "# Set the variable 'data' with 'df'\n",
        "data = df\n",
        "\n",
        "print(\"First 5 records:\", data.head())"
      ],
      "metadata": {
        "colab": {
          "base_uri": "https://localhost:8080/",
          "height": 0
        },
        "id": "PR_VP56rCULc",
        "outputId": "8187281d-db18-42fd-d33a-5e4e4446e9e5"
      },
      "execution_count": 6,
      "outputs": [
        {
          "output_type": "stream",
          "name": "stderr",
          "text": [
            "<ipython-input-6-ee2de80c207b>:8: DeprecationWarning: load_dataset is deprecated and will be removed in a future version.\n",
            "  df = kagglehub.load_dataset(\n"
          ]
        },
        {
          "output_type": "stream",
          "name": "stdout",
          "text": [
            "First 5 records:                                                 body  label\n",
            "0  hpl nom may 25 2001 see attached file hplno 52...      0\n",
            "1  nom actual vols 24 th forwarded sabrae zajac h...      0\n",
            "2  enron actuals march 30 april 1 201 estimated a...      0\n",
            "3  hpl nom may 30 2001 see attached file hplno 53...      0\n",
            "4  hpl nom june 1 2001 see attached file hplno 60...      0\n"
          ]
        }
      ]
    },
    {
      "cell_type": "code",
      "source": [
        "# 3. Preprocessing - Improved\n",
        "\n",
        "# Remove missing values first\n",
        "data.dropna(subset=['body', 'label'], inplace=True)\n",
        "\n",
        "# Define text cleaning function\n",
        "def clean_email_body(text):\n",
        "    text = BeautifulSoup(text, \"html.parser\").get_text()\n",
        "    text = re.sub(r'\\S+@\\S+', '', text)  # Remove email addresses\n",
        "    text = re.sub(r'http\\S+', '', text)   # Remove URLs\n",
        "    text = re.sub(r'[^a-zA-Z\\s]', '', text)  # Remove non-alphabetic characters\n",
        "    text = text.lower()  # Lowercase\n",
        "    text = re.sub(r'\\s+', ' ', text).strip()  # Remove extra spaces\n",
        "    return text\n",
        "\n",
        "# Apply cleaning\n",
        "data['body'] = data['body'].apply(clean_email_body)\n",
        "\n",
        "# Remove very short emails\n",
        "data = data[data['body'].str.len() > 20]\n",
        "\n",
        "# Sample 10,000 rows after cleaning\n",
        "# data = data.sample(n=20000, random_state=42)"
      ],
      "metadata": {
        "id": "Jpqoez2KCe7r"
      },
      "execution_count": 7,
      "outputs": []
    },
    {
      "cell_type": "code",
      "source": [
        "# Visualize label distribution\n",
        "label_counts = data['label'].value_counts()\n",
        "sns.barplot(x=label_counts.index, y=label_counts.values)\n",
        "plt.title(\"Class Distribution Before Sampling\")\n",
        "plt.xticks([0, 1], ['Ham', 'Phishing'])\n",
        "plt.ylabel(\"Count\")\n",
        "plt.savefig(\"label_distribution_before_sampling.png\")\n",
        "plt.show()"
      ],
      "metadata": {
        "colab": {
          "base_uri": "https://localhost:8080/",
          "height": 472
        },
        "id": "p41L9Bfjfen4",
        "outputId": "e6c433b0-c146-4e58-8738-118464c5a53f"
      },
      "execution_count": 8,
      "outputs": [
        {
          "output_type": "display_data",
          "data": {
            "text/plain": [
              "<Figure size 640x480 with 1 Axes>"
            ],
            "image/png": "iVBORw0KGgoAAAANSUhEUgAAAk0AAAHHCAYAAACiOWx7AAAAOnRFWHRTb2Z0d2FyZQBNYXRwbG90bGliIHZlcnNpb24zLjEwLjAsIGh0dHBzOi8vbWF0cGxvdGxpYi5vcmcvlHJYcgAAAAlwSFlzAAAPYQAAD2EBqD+naQAAPSJJREFUeJzt3Xt8z/X///H729h7s+09x22WsTkkyylzGglZpkb5RiFp6CCNYoXER+igqBxy7FMf69M3hQ4SmcOQZIlJDh9EH6K0TdjGYmN7/f7ou/fP24anNbZxu14u78vF6/l6vl+vx+tlb7t7vZ6v59tmWZYlAAAAXFKZ4i4AAACgNCA0AQAAGCA0AQAAGCA0AQAAGCA0AQAAGCA0AQAAGCA0AQAAGCA0AQAAGCA0AQAAGCA0AZcQHBysfv36FXcZf9u4ceNks9muyb7at2+v9u3bO5fXrVsnm82mTz755Jrsv1+/fgoODr4m+7pW4uPj1aRJE3l4eMhmsyktLa24SyrVDh48KJvNpri4OGfbtfyMoPQiNOGG9PPPP2vgwIGqVauWPDw85HA41KZNG02bNk2nT58u7vIuKS4uTjabzfny8PBQYGCgIiMjNX36dJ08ebJI9nPkyBGNGzdO27ZtK5LtFaWSWFveL+LzXw6HQ02aNNGMGTOUk5NTqO0eO3ZMDz74oDw9PTVz5kx98MEH8vLyKuLqC2fDhg26++67ddNNN8nDw0M1atRQ165dNX/+/OIuDbgqyhZ3AcC1tmzZMj3wwAOy2+165JFH1KBBA2VnZ2vDhg0aPny4du3apXfeeae4y7ysCRMmKCQkRGfPnlVycrLWrVunoUOH6q233tKSJUvUqFEjZ98xY8bo+eefv6LtHzlyROPHj1dwcLCaNGli/L6VK1de0X4K41K1/fOf/1Rubu5Vr+FievfurXvuuUeSlJ6erq+++kpDhgzRL7/8osmTJ1/x9jZv3qyTJ0/qpZdeUkRERFGXW2iLFi1Sz5491aRJEz3zzDOqWLGiDhw4oPXr1+uf//ynHnrooeIu8YoU5jOCGw+hCTeUAwcOqFevXqpZs6bWrFmjatWqOdfFxMRo//79WrZsWTFWaO7uu+9Ws2bNnMujRo3SmjVr1KVLF917773avXu3PD09JUlly5ZV2bJX9+P+559/qnz58nJ3d7+q+7mccuXKFev+mzZtqocffti5/NRTT6lly5aaP39+oUJTamqqJKlChQpFVaIyMzP/9tWqcePGKTQ0VN99912+v/O8mkuTa/EZQenH7TncUCZNmqRTp07pvffecwlMeerUqaNnnnnmou8/fvy4nnvuOTVs2FDe3t5yOBy6++679eOPP+br+/bbb+vWW29V+fLlVbFiRTVr1szltsXJkyc1dOhQBQcHy263y8/PT3fddZe2bt1a6OO788479Y9//EO//PKL/vd//9fZXtB4jVWrVun2229XhQoV5O3trXr16umFF16Q9Nc4pObNm0uS+vfv77zdlDcGpH379mrQoIGSkpJ0xx13qHz58s73XjimKU9OTo5eeOEFBQQEyMvLS/fee68OHz7s0udiY8jO3+blaitoTFNmZqaeffZZBQUFyW63q169enrjjTdkWZZLP5vNpsGDB2vx4sVq0KCB7Ha7br31VsXHxxd8wg3YbDb5+/sX+At5+fLlatu2rby8vOTj46OoqCjt2rXL5bijo6MlSc2bN5fNZnM5P4sWLVJYWJg8PT1VpUoVPfzww/rtt99c9tGvXz95e3vr559/1j333CMfHx/16dNHkpSbm6upU6fq1ltvlYeHh/z9/TVw4ECdOHHissf1888/q3nz5gWGZD8/P5flN954Q61bt1blypXl6empsLCwAse45Z3/RYsWKTQ0VJ6engoPD9eOHTskSXPnzlWdOnXk4eGh9u3b6+DBgy7vP//nsnXr1vL09FRISIjmzJlz2eMp6DNyJT8P69atU7NmzeTh4aHatWtr7ty5jJO6DhGrcUP58ssvVatWLbVu3bpQ7//vf/+rxYsX64EHHlBISIhSUlI0d+5ctWvXTv/5z38UGBgo6a9bRE8//bR69OihZ555RmfOnNH27du1adMm522LJ598Up988okGDx6s0NBQHTt2TBs2bNDu3bvVtGnTQh9j37599cILL2jlypV6/PHHC+yza9cudenSRY0aNdKECRNkt9u1f/9+ffvtt5Kk+vXra8KECRo7dqyeeOIJtW3bVpJcztuxY8d09913q1evXnr44Yfl7+9/ybpeeeUV2Ww2jRw5UqmpqZo6daoiIiK0bds25xUxEya1nc+yLN17771au3atHn30UTVp0kQrVqzQ8OHD9dtvv2nKlCku/Tds2KDPPvtMTz31lHx8fDR9+nR1795dhw4dUuXKlS9b359//qk//vhDkpSRkaHly5crPj5eo0aNcun3wQcfKDo6WpGRkXr99df1559/avbs2br99tv1ww8/KDg4WKNHj1a9evX0zjvvOG/H1q5dW9JfY9v69++v5s2ba+LEiUpJSdG0adP07bff6ocffnC5MnXu3DlFRkbq9ttv1xtvvKHy5ctLkgYOHOjcztNPP60DBw5oxowZ+uGHH/Ttt99e8qpdzZo1lZCQoF9//VXVq1e/5DmZNm2a7r33XvXp00fZ2dn6+OOP9cADD2jp0qWKiopy6fvNN99oyZIliomJkSRNnDhRXbp00YgRIzRr1iw99dRTOnHihCZNmqQBAwZozZo1Lu8/ceKE7rnnHj344IPq3bu3Fi5cqEGDBsnd3V0DBgy4ZJ0FMfl5+OGHH9S5c2dVq1ZN48ePV05OjiZMmKCqVate8f5QwlnADSI9Pd2SZN13333G76lZs6YVHR3tXD5z5oyVk5Pj0ufAgQOW3W63JkyY4Gy77777rFtvvfWS2/b19bViYmKMa8kzb948S5K1efPmS277tttucy6/+OKL1vkf9ylTpliSrKNHj150G5s3b7YkWfPmzcu3rl27dpYka86cOQWua9eunXN57dq1liTrpptusjIyMpztCxcutCRZ06ZNc7ZdeL4vts1L1RYdHW3VrFnTubx48WJLkvXyyy+79OvRo4dls9ms/fv3O9skWe7u7i5tP/74oyXJevvtt/Pt63wHDhywJBX4GjRokJWbm+vse/LkSatChQrW448/7rKN5ORky9fX16W9oL/v7Oxsy8/Pz2rQoIF1+vRpZ/vSpUstSdbYsWNdzock6/nnn3fZ1zfffGNJsj788EOX9vj4+ALbL/Tee+85z1eHDh2sf/zjH9Y333yT7/NhWZb1559/uixnZ2dbDRo0sO68806XdkmW3W63Dhw44GybO3euJckKCAhw+fkZNWqUJcmlb97P5Ztvvulsy8rKspo0aWL5+flZ2dnZlmX9/7+r839+LvyM5NVj8vPQtWtXq3z58tZvv/3mbNu3b59VtmzZfNtE6cbtOdwwMjIyJEk+Pj6F3obdbleZMn99bHJycnTs2DHnra3zb6tVqFBBv/76qzZv3nzRbVWoUEGbNm3SkSNHCl3PxXh7e1/yKbq8qxBffPFFoQdN2+129e/f37j/I4884nLue/TooWrVqumrr74q1P5NffXVV3Jzc9PTTz/t0v7ss8/KsiwtX77cpT0iIsJ5NUeSGjVqJIfDof/+979G+3viiSe0atUqrVq1Sp9++qliYmI0d+5cxcbGOvusWrVKaWlp6t27t/744w/ny83NTS1bttTatWsvuY8tW7YoNTVVTz31lDw8PJztUVFRuuWWWwoclzdo0CCX5UWLFsnX11d33XWXSw1hYWHy9va+bA0DBgxQfHy82rdvrw0bNuill15S27ZtVbduXW3cuNGl7/lXEk+cOKH09HS1bdu2wFvRHTt2dLm92rJlS0lS9+7dXX5+8tov/HspW7asBg4c6Fx2d3fXwIEDlZqaqqSkpEseU0Eu9/OQk5Oj1atXq1u3bs4rzdJft/rvvvvuK94fSjZCE24YDodDkv7WI/m5ubmaMmWK6tatK7vdripVqqhq1aravn270tPTnf1Gjhwpb29vtWjRQnXr1lVMTIzz1leeSZMmaefOnQoKClKLFi00btw441/Ml3Pq1KlLhsOePXuqTZs2euyxx+Tv769evXpp4cKFVxSgbrrppisa9F23bl2XZZvNpjp16uQbl1LUfvnlFwUGBuY7H/Xr13euP1+NGjXybaNixYpG43ykv44zIiJCERERuv/++zVjxgw99dRTmjp1qnNszr59+yT9NQatatWqLq+VK1dediB1Xs316tXLt+6WW27Jd0xly5bNdwtt3759Sk9Pl5+fX74aTp06ZTSYOzIyUitWrFBaWprWr1+vmJgY/fLLL+rSpYvL+5cuXapWrVrJw8NDlSpVUtWqVTV79myXz0yeC8+/r6+vJCkoKKjA9gv/XgIDA/MNcr/55pslqVA/a5f7eUhNTdXp06dVp06dfP0KakPpxpgm3DAcDocCAwO1c+fOQm/j1Vdf1T/+8Q8NGDBAL730kipVqqQyZcpo6NChLoGjfv362rt3r5YuXar4+Hh9+umnmjVrlsaOHavx48dLkh588EG1bdtWn3/+uVauXKnJkyfr9ddf12efffa3/of666+/Kj09/ZL/YHt6emr9+vVau3atli1bpvj4eC1YsEB33nmnVq5cKTc3t8vu50rGIZm62KDZnJwco5qKwsX2Y10waPxKdOzYUTNmzND69evVsGFD58/KBx98oICAgHz9i/oprvOvkObJzc2Vn5+fPvzwwwLfcyXjccqXL6+2bduqbdu2qlKlisaPH6/ly5crOjpa33zzje69917dcccdmjVrlqpVq6Zy5cpp3rx5Bc7ndLHzfzX+XkwU135RMhGacEPp0qWL3nnnHSUmJio8PPyK3//JJ5+oQ4cOeu+991za09LSVKVKFZc2Ly8v9ezZUz179lR2drbuv/9+vfLKKxo1apTzlkq1atX01FNP6amnnlJqaqqaNm2qV1555W+Fpg8++EDSX1cBLqVMmTLq2LGjOnbsqLfeekuvvvqqRo8erbVr1yoiIqLIn/rJu7qSx7Is7d+/32U+qYoVKxY42/Uvv/yiWrVqOZevpLaaNWtq9erVOnnypMvVpj179jjXX23nzp2T9NcVQEnO2z1+fn6Fmnspr+a9e/fqzjvvdFm3d+9eo2OqXbu2Vq9erTZt2hRpAM6bBuP333+XJH366afy8PDQihUrZLfbnf3mzZtXZPs835EjR/JNqfDTTz9J0lWZKd7Pz08eHh7av39/vnUFtaF04/YcbigjRoyQl5eXHnvsMaWkpORb//PPP2vatGkXfb+bm1u+/2EuWrQo32Pex44dc1l2d3dXaGioLMvS2bNnlZOTk+/WhJ+fnwIDA5WVlXWlh+W0Zs0avfTSSwoJCXE+Vl6Q48eP52vLmyQyb/95v3SK6is7/v3vf7vcGv3kk0/0+++/uwTE2rVr67vvvlN2drazbenSpfmmJriS2u655x7l5ORoxowZLu1TpkyRzWa7JuNOvvzyS0lS48aNJf0VaB0Oh1599VWdPXs2X/+jR49ecnvNmjWTn5+f5syZ4/Lzsnz5cu3evTvfE2kFefDBB5WTk6OXXnop37pz585d9twmJCQU2J43Ri3v1qGbm5tsNpvLjOgHDx7U4sWLL1tjYZw7d05z5851LmdnZ2vu3LmqWrWqwsLCinx/bm5uioiI0OLFi13GJ+7fvz/feDmUflxpwg2ldu3amj9/vnr27Kn69eu7zAi+ceNGLVq06JLfNdelSxdNmDBB/fv3V+vWrbVjxw59+OGHLldBJKlTp04KCAhQmzZt5O/vr927d2vGjBmKioqSj4+P0tLSVL16dfXo0UONGzeWt7e3Vq9erc2bN+vNN980Opbly5drz549OnfunFJSUrRmzRqtWrVKNWvW1JIlS1wGCF9owoQJWr9+vaKiolSzZk2lpqZq1qxZql69um6//XbnuapQoYLmzJkjHx8feXl5qWXLlgoJCTGq70KVKlXS7bffrv79+yslJUVTp05VnTp1XKZFeOyxx/TJJ5+oc+fOevDBB/Xzzz/rf//3f10G4l5pbV27dlWHDh00evRoHTx4UI0bN9bKlSv1xRdfaOjQofm2/Xdt3brVOUfWyZMnlZCQoE8//VStW7dWp06dJP11q3j27Nnq27evmjZtql69eqlq1ao6dOiQli1bpjZt2uQLeecrV66cXn/9dfXv31/t2rVT7969nVMOBAcHa9iwYZets127dho4cKAmTpyobdu2qVOnTipXrpz27dunRYsWadq0aerRo8dF33/fffcpJCREXbt2Ve3atZWZmanVq1fryy+/VPPmzdW1a1dJfw1Of+utt9S5c2c99NBDSk1N1cyZM1WnTh1t3779Sk6tkcDAQL3++us6ePCgbr75Zi1YsEDbtm3TO++8c9UmPh03bpxWrlypNm3aaNCgQc6Q3qBBgxL1VT8oAsX45B5QbH766Sfr8ccft4KDgy13d3fLx8fHatOmjfX2229bZ86ccfYraMqBZ5991qpWrZrl6elptWnTxkpMTMz3SPzcuXOtO+64w6pcubJlt9ut2rVrW8OHD7fS09Mty/rrMejhw4dbjRs3tnx8fCwvLy+rcePG1qxZsy5be94j6Hkvd3d3KyAgwLrrrrusadOmuTyWnefCx6kTEhKs++67zwoMDLTc3d2twMBAq3fv3tZPP/3k8r4vvvjCCg0NdT46nfeIdrt27S46pcLFphz46KOPrFGjRll+fn6Wp6enFRUVZf3yyy/53v/mm29aN910k2W32602bdpYW7ZsybfNS9V24ZQDlvXXI/7Dhg2zAgMDrXLlyll169a1Jk+e7DINgGX99Yh5QdNAXGwqhPMVNOVA2bJlrVq1alnDhw+3Tp48me89a9eutSIjIy1fX1/Lw8PDql27ttWvXz9ry5Ytzj6XmmJiwYIF1m233WbZ7XarUqVKVp8+faxff/3VpU90dLTl5eV10brfeecdKywszPL09LR8fHyshg0bWiNGjLCOHDlyyeP96KOPrF69elm1a9e2PD09LQ8PDys0NNQaPXp0vp/B9957z6pbt65lt9utW265xZo3b95FH/G/8PznndfJkyfnO3eSrEWLFjnb8n4ut2zZYoWHh1seHh5WzZo1rRkzZhS4TZMpB0x/HhISEqzbbrvNcnd3t2rXrm29++671rPPPmt5eHgUfAJRKtksi9FsAIDSr3379vrjjz/+1sMeRalbt27atWtXvvF8KL0Y0wQAwN90+vRpl+V9+/bpq6++KvArhVB6MaYJAIC/qVatWurXr59q1aqlX375RbNnz5a7u7tGjBhR3KWhCBGaAAD4mzp37qyPPvpIycnJstvtCg8P16uvvppvUleUboxpAgAAMMCYJgAAAAOEJgAAAAOMaSoiubm5OnLkiHx8fIr86ycAAMDVYVmWTp48qcDAwHzf0XghQlMROXLkSL5v4QYAAKXD4cOHVb169Uv2ITQVkbwvAj18+LAcDkcxVwMAAExkZGQoKCjI5Qu9L4bQVETybsk5HA5CEwAApYzJ0BoGggMAABggNAEAABggNAEAABggNAEAABggNAEAABggNAEAABggNAEAABggNAEAABggNAEAABggNAEAABggNAEAABggNAEAABggNAEAABggNAEAABggNAEAABgoW9wFAAD+Ejb838VdAlDiJE1+pLhLcOJKEwAAgAFCEwAAgAFCEwAAgAFCEwAAgAFCEwAAgAFCEwAAgAFCEwAAgAFCEwAAgAFCEwAAgAFCEwAAgAFCEwAAgAFCEwAAgAFCEwAAgAFCEwAAgAFCEwAAgAFCEwAAgAFCEwAAgAFCEwAAgIESE5pee+012Ww2DR061Nl25swZxcTEqHLlyvL29lb37t2VkpLi8r5Dhw4pKipK5cuXl5+fn4YPH65z58659Fm3bp2aNm0qu92uOnXqKC4uLt/+Z86cqeDgYHl4eKhly5b6/vvvr8ZhAgCAUqpEhKbNmzdr7ty5atSokUv7sGHD9OWXX2rRokX6+uuvdeTIEd1///3O9Tk5OYqKilJ2drY2btyo999/X3FxcRo7dqyzz4EDBxQVFaUOHTpo27ZtGjp0qB577DGtWLHC2WfBggWKjY3Viy++qK1bt6px48aKjIxUamrq1T94AABQKtgsy7KKs4BTp06padOmmjVrll5++WU1adJEU6dOVXp6uqpWrar58+erR48ekqQ9e/aofv36SkxMVKtWrbR8+XJ16dJFR44ckb+/vyRpzpw5GjlypI4ePSp3d3eNHDlSy5Yt086dO5377NWrl9LS0hQfHy9JatmypZo3b64ZM2ZIknJzcxUUFKQhQ4bo+eefNzqOjIwM+fr6Kj09XQ6HoyhPEYAbRNjwfxd3CUCJkzT5kau6/Sv5/V3sV5piYmIUFRWliIgIl/akpCSdPXvWpf2WW25RjRo1lJiYKElKTExUw4YNnYFJkiIjI5WRkaFdu3Y5+1y47cjISOc2srOzlZSU5NKnTJkyioiIcPYpSFZWljIyMlxeAADg+lW2OHf+8ccfa+vWrdq8eXO+dcnJyXJ3d1eFChVc2v39/ZWcnOzsc35gyluft+5SfTIyMnT69GmdOHFCOTk5BfbZs2fPRWufOHGixo8fb3agAACg1Cu2K02HDx/WM888ow8//FAeHh7FVUahjRo1Sunp6c7X4cOHi7skAABwFRVbaEpKSlJqaqqaNm2qsmXLqmzZsvr66681ffp0lS1bVv7+/srOzlZaWprL+1JSUhQQECBJCggIyPc0Xd7y5fo4HA55enqqSpUqcnNzK7BP3jYKYrfb5XA4XF4AAOD6VWyhqWPHjtqxY4e2bdvmfDVr1kx9+vRx/rlcuXJKSEhwvmfv3r06dOiQwsPDJUnh4eHasWOHy1Nuq1atksPhUGhoqLPP+dvI65O3DXd3d4WFhbn0yc3NVUJCgrMPAABAsY1p8vHxUYMGDVzavLy8VLlyZWf7o48+qtjYWFWqVEkOh0NDhgxReHi4WrVqJUnq1KmTQkND1bdvX02aNEnJyckaM2aMYmJiZLfbJUlPPvmkZsyYoREjRmjAgAFas2aNFi5cqGXLljn3Gxsbq+joaDVr1kwtWrTQ1KlTlZmZqf79+1+js2GOp2uA/K720zUAIBXzQPDLmTJlisqUKaPu3bsrKytLkZGRmjVrlnO9m5ubli5dqkGDBik8PFxeXl6Kjo7WhAkTnH1CQkK0bNkyDRs2TNOmTVP16tX17rvvKjIy0tmnZ8+eOnr0qMaOHavk5GQ1adJE8fHx+QaHAwCAG1exz9N0vbhW8zRxpQnI73q50sTnG8iPeZoAAABKGUITAACAAUITAACAAUITAACAAUITAACAAUITAACAAUITAACAAUITAACAAUITAACAAUITAACAAUITAACAAUITAACAAUITAACAAUITAACAAUITAACAAUITAACAAUITAACAAUITAACAAUITAACAAUITAACAAUITAACAAUITAACAAUITAACAAUITAACAAUITAACAAUITAACAAUITAACAAUITAACAAUITAACAAUITAACAAUITAACAAUITAACAAUITAACAAUITAACAAUITAACAAUITAACAAUITAACAAUITAACAAUITAACAAUITAACAAUITAACAAUITAACAAUITAACAAUITAACAAUITAACAAUITAACAAUITAACAAUITAACAAUITAACAAUITAACAAUITAACAAUITAACAAUITAACAAUITAACAAUITAACAAUITAACAAUITAACAAUITAACAAUITAACAAUITAACAAUITAACAAUITAACAAUITAACAAUITAACAAUITAACAAUITAACAAUITAACAAUITAACAAUITAACAAUITAACAAUITAACAgWINTbNnz1ajRo3kcDjkcDgUHh6u5cuXO9efOXNGMTExqly5sry9vdW9e3elpKS4bOPQoUOKiopS+fLl5efnp+HDh+vcuXMufdatW6emTZvKbrerTp06iouLy1fLzJkzFRwcLA8PD7Vs2VLff//9VTlmAABQOhVraKpevbpee+01JSUlacuWLbrzzjt13333adeuXZKkYcOG6csvv9SiRYv09ddf68iRI7r//vud78/JyVFUVJSys7O1ceNGvf/++4qLi9PYsWOdfQ4cOKCoqCh16NBB27Zt09ChQ/XYY49pxYoVzj4LFixQbGysXnzxRW3dulWNGzdWZGSkUlNTr93JAAAAJZrNsiyruIs4X6VKlTR58mT16NFDVatW1fz589WjRw9J0p49e1S/fn0lJiaqVatWWr58ubp06aIjR47I399fkjRnzhyNHDlSR48elbu7u0aOHKlly5Zp586dzn306tVLaWlpio+PlyS1bNlSzZs314wZMyRJubm5CgoK0pAhQ/T8888b1Z2RkSFfX1+lp6fL4XAU5SlxETb831dt20BplTT5keIuoUjw+Qbyu9qf7yv5/V1ixjTl5OTo448/VmZmpsLDw5WUlKSzZ88qIiLC2eeWW25RjRo1lJiYKElKTExUw4YNnYFJkiIjI5WRkeG8WpWYmOiyjbw+edvIzs5WUlKSS58yZcooIiLC2acgWVlZysjIcHkBAIDrV7GHph07dsjb21t2u11PPvmkPv/8c4WGhio5OVnu7u6qUKGCS39/f38lJydLkpKTk10CU976vHWX6pORkaHTp0/rjz/+UE5OToF98rZRkIkTJ8rX19f5CgoKKtTxAwCA0qHYQ1O9evW0bds2bdq0SYMGDVJ0dLT+85//FHdZlzVq1Cilp6c7X4cPHy7ukgAAwFVUtrgLcHd3V506dSRJYWFh2rx5s6ZNm6aePXsqOztbaWlpLlebUlJSFBAQIEkKCAjI95Rb3tN15/e58Im7lJQUORwOeXp6ys3NTW5ubgX2ydtGQex2u+x2e+EOGgAAlDrFfqXpQrm5ucrKylJYWJjKlSunhIQE57q9e/fq0KFDCg8PlySFh4drx44dLk+5rVq1Sg6HQ6Ghoc4+528jr0/eNtzd3RUWFubSJzc3VwkJCc4+AAAAxXqladSoUbr77rtVo0YNnTx5UvPnz9e6deu0YsUK+fr66tFHH1VsbKwqVaokh8OhIUOGKDw8XK1atZIkderUSaGhoerbt68mTZqk5ORkjRkzRjExMc6rQE8++aRmzJihESNGaMCAAVqzZo0WLlyoZcuWOeuIjY1VdHS0mjVrphYtWmjq1KnKzMxU//79i+W8AACAkqdYQ1NqaqoeeeQR/f777/L19VWjRo20YsUK3XXXXZKkKVOmqEyZMurevbuysrIUGRmpWbNmOd/v5uampUuXatCgQQoPD5eXl5eio6M1YcIEZ5+QkBAtW7ZMw4YN07Rp01S9enW9++67ioyMdPbp2bOnjh49qrFjxyo5OVlNmjRRfHx8vsHhAADgxlXi5mkqrZinCSg+zNMEXL+YpwkAAKCUITQBAAAYIDQBAAAYIDQBAAAYIDQBAAAYIDQBAAAYIDQBAAAYIDQBAAAYIDQBAAAYIDQBAAAYIDQBAAAYIDQBAAAYIDQBAAAYIDQBAAAYIDQBAAAYIDQBAAAYIDQBAAAYIDQBAAAYIDQBAAAYIDQBAAAYIDQBAAAYIDQBAAAYIDQBAAAYIDQBAAAYIDQBAAAYIDQBAAAYIDQBAAAYIDQBAAAYIDQBAAAYIDQBAAAYIDQBAAAYIDQBAAAYIDQBAAAYIDQBAAAYIDQBAAAYIDQBAAAYIDQBAAAYKFRoqlWrlo4dO5avPS0tTbVq1frbRQEAAJQ0hQpNBw8eVE5OTr72rKws/fbbb3+7KAAAgJKm7JV0XrJkifPPK1askK+vr3M5JydHCQkJCg4OLrLiAAAASoorCk3dunWTJNlsNkVHR7usK1eunIKDg/Xmm28WWXEAAAAlxRWFptzcXElSSEiINm/erCpVqlyVogAAAEqaKwpNeQ4cOFDUdQAAAJRohQpNkpSQkKCEhASlpqY6r0Dl+de//vW3CwMAAChJChWaxo8frwkTJqhZs2aqVq2abDZbUdcFAABQohQqNM2ZM0dxcXHq27dvUdcDAABQIhVqnqbs7Gy1bt26qGsBAAAosQoVmh577DHNnz+/qGsBAAAosQp1e+7MmTN65513tHr1ajVq1EjlypVzWf/WW28VSXEAAAAlRaFC0/bt29WkSRNJ0s6dO13WMSgcAABcjwoVmtauXVvUdQAAAJRohRrTBAAAcKMp1JWmDh06XPI23Jo1awpdEAAAQElUqNCUN54pz9mzZ7Vt2zbt3Lkz3xf5AgAAXA8KFZqmTJlSYPu4ceN06tSpv1UQAABASVSkY5oefvhhvncOAABcl4o0NCUmJsrDw6MoNwkAAFAiFOr23P333++ybFmWfv/9d23ZskX/+Mc/iqQwAACAkqRQocnX19dluUyZMqpXr54mTJigTp06FUlhAAAAJUmhQtO8efOKug4AAIASrVChKU9SUpJ2794tSbr11lt12223FUlRAAAAJU2hQlNqaqp69eqldevWqUKFCpKktLQ0dejQQR9//LGqVq1alDUCAAAUu0I9PTdkyBCdPHlSu3bt0vHjx3X8+HHt3LlTGRkZevrpp4u6RgAAgGJXqCtN8fHxWr16terXr+9sCw0N1cyZMxkIDgAArkuFutKUm5urcuXK5WsvV66ccnNz/3ZRAAAAJU2hQtOdd96pZ555RkeOHHG2/fbbbxo2bJg6duxYZMUBAACUFIUKTTNmzFBGRoaCg4NVu3Zt1a5dWyEhIcrIyNDbb79d1DUCAAAUu0KNaQoKCtLWrVu1evVq7dmzR5JUv359RUREFGlxAAAAJcUVXWlas2aNQkNDlZGRIZvNprvuuktDhgzRkCFD1Lx5c91666365ptvrlatAAAAxeaKQtPUqVP1+OOPy+Fw5Fvn6+urgQMH6q233iqy4gAAAEqKKwpNP/74ozp37nzR9Z06dVJSUtLfLgoAAKCkuaLQlJKSUuBUA3nKli2ro0ePGm9v4sSJat68uXx8fOTn56du3bpp7969Ln3OnDmjmJgYVa5cWd7e3urevbtSUlJc+hw6dEhRUVEqX768/Pz8NHz4cJ07d86lz7p169S0aVPZ7XbVqVNHcXFx+eqZOXOmgoOD5eHhoZYtW+r77783PhYAAHB9u6LQdNNNN2nnzp0XXb99+3ZVq1bNeHtff/21YmJi9N1332nVqlU6e/asOnXqpMzMTGefYcOG6csvv9SiRYv09ddf68iRI7r//vud63NychQVFaXs7Gxt3LhR77//vuLi4jR27FhnnwMHDigqKkodOnTQtm3bNHToUD322GNasWKFs8+CBQsUGxurF198UVu3blXjxo0VGRmp1NRU4+MBAADXL5tlWZZp5yFDhmjdunXavHmzPDw8XNadPn1aLVq0UIcOHTR9+vRCFXP06FH5+fnp66+/1h133KH09HRVrVpV8+fPV48ePSRJe/bsUf369ZWYmKhWrVpp+fLl6tKli44cOSJ/f39J0pw5czRy5EgdPXpU7u7uGjlypJYtW+YS+Hr16qW0tDTFx8dLklq2bKnmzZtrxowZkv6awDMoKEhDhgzR888/f9naMzIy5Ovrq/T09ALHfBWVsOH/vmrbBkqrpMmPFHcJRYLPN5Df1f58X8nv7yu60jRmzBgdP35cN998syZNmqQvvvhCX3zxhV5//XXVq1dPx48f1+jRowtdeHp6uiSpUqVKkqSkpCSdPXvWZSqDW265RTVq1FBiYqIkKTExUQ0bNnQGJkmKjIxURkaGdu3a5exz4XQIkZGRzm1kZ2crKSnJpU+ZMmUUERHh7HOhrKwsZWRkuLwAAMD164rmafL399fGjRs1aNAgjRo1SnkXqWw2myIjIzVz5kyX8HIlcnNzNXToULVp00YNGjSQJCUnJ8vd3V0VKlTIV0dycrKzz4X7zFu+XJ+MjAydPn1aJ06cUE5OToF98uahutDEiRM1fvz4Qh0rAAAofa54csuaNWvqq6++0okTJ7R//35ZlqW6deuqYsWKf6uQmJgY7dy5Uxs2bPhb27lWRo0apdjYWOdyRkaGgoKCirEiAABwNRVqRnBJqlixopo3b14kRQwePFhLly7V+vXrVb16dWd7QECAsrOzlZaW5nK1KSUlRQEBAc4+Fz7llvd03fl9LnziLiUlRQ6HQ56ennJzc5Obm1uBffK2cSG73S673V64AwYAAKVOob57rqhYlqXBgwfr888/15o1axQSEuKyPiwsTOXKlVNCQoKzbe/evTp06JDCw8MlSeHh4dqxY4fLU26rVq2Sw+FQaGios8/528jrk7cNd3d3hYWFufTJzc1VQkKCsw8AALixFfpKU1GIiYnR/Pnz9cUXX8jHx8c5BsnX11eenp7y9fXVo48+qtjYWFWqVEkOh0NDhgxReHi4WrVqJemvCTVDQ0PVt29fTZo0ScnJyRozZoxiYmKcV4KefPJJzZgxQyNGjNCAAQO0Zs0aLVy4UMuWLXPWEhsbq+joaDVr1kwtWrTQ1KlTlZmZqf79+1/7EwMAAEqcYg1Ns2fPliS1b9/epX3evHnq16+fJGnKlCkqU6aMunfvrqysLEVGRmrWrFnOvm5ublq6dKkGDRqk8PBweXl5KTo6WhMmTHD2CQkJ0bJlyzRs2DBNmzZN1atX17vvvqvIyEhnn549e+ro0aMaO3askpOT1aRJE8XHxxd6YDsAALi+XNE8Tbg45mkCig/zNAHXr1I7TxMAAMCNitAEAABggNAEAABggNAEAABggNAEAABggNAEAABggNAEAABggNAEAABggNAEAABggNAEAABggNAEAABggNAEAABggNAEAABggNAEAABggNAEAABggNAEAABggNAEAABggNAEAABggNAEAABggNAEAABggNAEAABggNAEAABggNAEAABggNAEAABggNAEAABggNAEAABggNAEAABggNAEAABggNAEAABggNAEAABggNAEAABggNAEAABggNAEAABggNAEAABggNAEAABggNAEAABggNAEAABggNAEAABggNAEAABggNAEAABggNAEAABggNAEAABggNAEAABggNAEAABggNAEAABggNAEAABggNAEAABggNAEAABggNAEAABggNAEAABggNAEAABggNAEAABggNAEAABggNAEAABggNAEAABggNAEAABggNAEAABggNAEAABggNAEAABggNAEAABggNAEAABggNAEAABggNAEAABggNAEAABggNAEAABggNAEAABggNAEAABggNAEAABggNAEAABggNAEAABggNAEAABgoFhD0/r169W1a1cFBgbKZrNp8eLFLusty9LYsWNVrVo1eXp6KiIiQvv27XPpc/z4cfXp00cOh0MVKlTQo48+qlOnTrn02b59u9q2bSsPDw8FBQVp0qRJ+WpZtGiRbrnlFnl4eKhhw4b66quvivx4AQBA6VWsoSkzM1ONGzfWzJkzC1w/adIkTZ8+XXPmzNGmTZvk5eWlyMhInTlzxtmnT58+2rVrl1atWqWlS5dq/fr1euKJJ5zrMzIy1KlTJ9WsWVNJSUmaPHmyxo0bp3feecfZZ+PGjerdu7ceffRR/fDDD+rWrZu6deumnTt3Xr2DBwAApYrNsiyruIuQJJvNps8//1zdunWT9NdVpsDAQD377LN67rnnJEnp6eny9/dXXFycevXqpd27dys0NFSbN29Ws2bNJEnx8fG655579OuvvyowMFCzZ8/W6NGjlZycLHd3d0nS888/r8WLF2vPnj2SpJ49eyozM1NLly511tOqVSs1adJEc+bMMao/IyNDvr6+Sk9Pl8PhKKrTkk/Y8H9ftW0DpVXS5EeKu4QiwecbyO9qf76v5Pd3iR3TdODAASUnJysiIsLZ5uvrq5YtWyoxMVGSlJiYqAoVKjgDkyRFRESoTJky2rRpk7PPHXfc4QxMkhQZGam9e/fqxIkTzj7n7yevT95+AAAAyhZ3AReTnJwsSfL393dp9/f3d65LTk6Wn5+fy/qyZcuqUqVKLn1CQkLybSNvXcWKFZWcnHzJ/RQkKytLWVlZzuWMjIwrOTwAAFDKlNgrTSXdxIkT5evr63wFBQUVd0kAAOAqKrGhKSAgQJKUkpLi0p6SkuJcFxAQoNTUVJf1586d0/Hjx136FLSN8/dxsT556wsyatQopaenO1+HDx++0kMEAAClSIkNTSEhIQoICFBCQoKzLSMjQ5s2bVJ4eLgkKTw8XGlpaUpKSnL2WbNmjXJzc9WyZUtnn/Xr1+vs2bPOPqtWrVK9evVUsWJFZ5/z95PXJ28/BbHb7XI4HC4vAABw/SrW0HTq1Clt27ZN27Ztk/TX4O9t27bp0KFDstlsGjp0qF5++WUtWbJEO3bs0COPPKLAwEDnE3b169dX586d9fjjj+v777/Xt99+q8GDB6tXr14KDAyUJD300ENyd3fXo48+ql27dmnBggWaNm2aYmNjnXU888wzio+P15tvvqk9e/Zo3Lhx2rJliwYPHnytTwkAACihinUg+JYtW9ShQwfncl6QiY6OVlxcnEaMGKHMzEw98cQTSktL0+233674+Hh5eHg43/Phhx9q8ODB6tixo8qUKaPu3btr+vTpzvW+vr5auXKlYmJiFBYWpipVqmjs2LEuczm1bt1a8+fP15gxY/TCCy+obt26Wrx4sRo0aHANzgIAACgNSsw8TaUd8zQBxYd5moDrF/M0AQAAlDKEJgAAAAOEJgAAAAOEJgAAAAOEJgAAAAOEJgAAAAOEJgAAAAOEJgAAAAOEJgAAAAOEJgAAAAOEJgAAAAOEJgAAAAOEJgAAAAOEJgAAAAOEJgAAAAOEJgAAAAOEJgAAAAOEJgAAAAOEJgAAAAOEJgAAAAOEJgAAAAOEJgAAAAOEJgAAAAOEJgAAAAOEJgAAAAOEJgAAAAOEJgAAAAOEJgAAAAOEJgAAAAOEJgAAAAOEJgAAAAOEJgAAAAOEJgAAAAOEJgAAAAOEJgAAAAOEJgAAAAOEJgAAAAOEJgAAAAOEJgAAAAOEJgAAAAOEJgAAAAOEJgAAAAOEJgAAAAOEJgAAAAOEJgAAAAOEJgAAAAOEJgAAAAOEJgAAAAOEJgAAAAOEJgAAAAOEJgAAAAOEJgAAAAOEJgAAAAOEJgAAAAOEJgAAAAOEJgAAAAOEJgAAAAOEJgAAAAOEJgAAAAOEJgAAAAOEJgAAAAOEJgAAAAOEJgAAAAOEJgAAAAOEJgAAAAOEJgAAAAOEJgAAAAOEJgAAAAOEJgAAAAOEJgAAAAOEJgAAAAOEpgvMnDlTwcHB8vDwUMuWLfX9998Xd0kAAKAEIDSdZ8GCBYqNjdWLL76orVu3qnHjxoqMjFRqampxlwYAAIoZoek8b731lh5//HH1799foaGhmjNnjsqXL69//etfxV0aAAAoZoSm/5Odna2kpCRFREQ428qUKaOIiAglJiYWY2UAAKAkKFvcBZQUf/zxh3JycuTv7+/S7u/vrz179uTrn5WVpaysLOdyenq6JCkjI+Oq1pmTdfqqbh8oja725+5a4fMN5He1P99527cs67J9CU2FNHHiRI0fPz5fe1BQUDFUA9zYfN9+srhLAHCVXKvP98mTJ+Xr63vJPoSm/1OlShW5ubkpJSXFpT0lJUUBAQH5+o8aNUqxsbHO5dzcXB0/flyVK1eWzWa76vWieGVkZCgoKEiHDx+Ww+Eo7nIAFCE+3zcWy7J08uRJBQYGXrYvoen/uLu7KywsTAkJCerWrZukv4JQQkKCBg8enK+/3W6X3W53aatQocI1qBQlicPh4B9V4DrF5/vGcbkrTHkITeeJjY1VdHS0mjVrphYtWmjq1KnKzMxU//79i7s0AABQzAhN5+nZs6eOHj2qsWPHKjk5WU2aNFF8fHy+weEAAODGQ2i6wODBgwu8HQecz26368UXX8x3ixZA6cfnGxdjs0yesQMAALjBMbklAACAAUITAACAAUITAACAAUITAKBUi4uLu+w8ef369XPOwXc5Jn2Dg4M1depUo+3h+kFowg3tYv84rlu3TjabTWlpade8JgD59evXTzabTTabTe7u7qpTp44mTJigc+fOGb1/2rRpiouLK7J6Nm/erCeeeKLItofSgSkHAAClQufOnTVv3jxlZWXpq6++UkxMjMqVK6dq1apd9r2mMz6bqlq1apFuD6UDV5qAyzh27Jh69+6tm266SeXLl1fDhg310UcfufRp3769hgwZoqFDh6pixYry9/fXP//5T+eM8j4+PqpTp46WL19eTEcBlH52u10BAQGqWbOmBg0apIiICC1ZssS5fsWKFapfv768vb3VuXNn/f777851F15V/uSTT9SwYUN5enqqcuXKioiIUGZmpsv+3njjDVWrVk2VK1dWTEyMzp4961x34e05m82md999V//zP/+j8uXLq27dui61SdKSJUtUt25deXh4qEOHDnr//fe5ol3KEJqAyzhz5ozCwsK0bNky7dy5U0888YT69u2r77//3qXf+++/rypVquj777/XkCFDNGjQID3wwANq3bq1tm7dqk6dOqlv3776888/i+lIgOuLp6ensrOzJUl//vmn3njjDX3wwQdav369Dh06pOeee67A9/3+++/q3bu3BgwYoN27d2vdunW6//77df60hWvXrtXPP/+stWvX6v3331dcXNxlb++NHz9eDz74oLZv36577rlHffr00fHjxyVJBw4cUI8ePdStWzf9+OOPGjhwoEaPHl00JwLXjgXcwKKjoy03NzfLy8vL5eXh4WFJsk6cOFHg+6Kioqxnn33WudyuXTvr9ttvdy6fO3fO8vLysvr27ets+/333y1JVmJi4lU7HuB6FR0dbd13332WZVlWbm6utWrVKstut1vPPfecNW/ePEuStX//fmf/mTNnWv7+/gW+PykpyZJkHTx48KL7qlmzpnXu3Dln2wMPPGD17NnTuVyzZk1rypQpzmVJ1pgxY5zLp06dsiRZy5cvtyzLskaOHGk1aNDAZT+jR4++5L8zKHkY04QbXocOHTR79myXtk2bNunhhx+WJOXk5OjVV1/VwoUL9dtvvyk7O1tZWVkqX768y3saNWrk/LObm5sqV66shg0bOtvyvsMwNTX1ah0KcF1bunSpvL29dfbsWeXm5uqhhx7SuHHjtGjRIpUvX161a9d29q1WrdpFP2uNGzdWx44d1bBhQ0VGRqpTp07q0aOHKlas6Oxz6623ys3NzWV7O3bsuGR95/8b4OXlJYfD4axh7969at68uUv/Fi1amB88SgRCE254Xl5eqlOnjkvbr7/+6vzz5MmTNW3aNE2dOlUNGzaUl5eXhg4d6rwtkKdcuXIuyzabzaXNZrNJknJzc4v6EIAbQt5/cNzd3RUYGKiyZf//r7CCPn/WRb4lzM3NTatWrdLGjRu1cuVKvf322xo9erQ2bdqkkJCQi27vcp/dwrwHpQtjmoDL+Pbbb3Xffffp4YcfVuPGjVWrVi399NNPxV0WcMPJ+w9OjRo1XAJTYdhsNrVp00bjx4/XDz/8IHd3d33++edFVGl+9erV05YtW1zaNm/efNX2h6uD0ARcRt26dZ3/K929e7cGDhyolJSU4i4LQCFt2rRJr776qrZs2aJDhw7ps88+09GjR1W/fv2rts+BAwdqz549GjlypH766SctXLjQObA87yo0Sj5CE3AZY8aMUdOmTRUZGan27dsrICDAeGZhACWPw+HQ+vXrdc899+jmm2/WmDFj9Oabb+ruu+++avsMCQnRJ598os8++0yNGjXS7NmznU/P2e32q7ZfFC2bdbGbvgAA4Kp55ZVXNGfOHB0+fLi4S4EhBoIDAHANzJo1S82bN1flypX17bffavLkyRo8eHBxl4UrQGgCAOAa2Ldvn15++WUdP35cNWrU0LPPPqtRo0YVd1m4AtyeAwAAMMBAcAAAAAOEJgAAAAOEJgAAAAOEJgAAAAOEJgA3jPbt22vo0KFGfdetWyebzaa0tLS/tc/g4GBNnTr1b20DQMlAaAIAADBAaAIAADBAaAJwQ/rggw/UrFkz+fj4KCAgQA899JBSU1Pz9fv222/VqFEjeXh4qFWrVtq5c6fL+g0bNqht27by9PRUUFCQnn76aWVmZl6rwwBwDRGaANyQzp49q5deekk//vijFi9erIMHD6pfv375+g0fPlxvvvmmNm/erKpVq6pr1646e/asJOnnn39W586d1b17d23fvl0LFizQhg0b+GoM4DrF16gAuCENGDDA+edatWpp+vTpat68uU6dOiVvb2/nuhdffFF33XWXJOn9999X9erV9fnnn+vBBx/UxIkT1adPH+fg8rp162r69Olq166dZs+eLQ8Pj2t6TACuLq40AbghJSUlqWvXrqpRo4Z8fHzUrl07SdKhQ4dc+oWHhzv/XKlSJdWrV0+7d++WJP3444+Ki4uTt7e38xUZGanc3FwdOHDg2h0MgGuCK00AbjiZmZmKjIxUZGSkPvzwQ1WtWlWHDh1SZGSksrOzjbdz6tQpDRw4UE8//XS+dTVq1CjKkgGUAIQmADecPXv26NixY3rttdcUFBQkSdqyZUuBfb/77jtnADpx4oR++ukn1a9fX5LUtGlT/ec//1GdOnWuTeEAihW35wDccGrUqCF3d3e9/fbb+u9//6slS5bopZdeKrDvhAkTlJCQoJ07d6pfv36qUqWKunXrJkkaOXKkNm7cqMGDB2vbtm3at2+fvvjiCwaCA9cpQhOAG07VqlUVFxenRYsWKTQ0VK+99preeOONAvu+9tpreuaZZxQWFqbk5GR9+eWXcnd3lyQ1atRIX3/9tX766Se1bdtWt912m8aOHavAwMBreTgArhGbZVlWcRcBAABQ0nGlCQAAwAChCQAAwAChCQAAwAChCQAAwAChCQAAwAChCQAAwAChCQAAwAChCQAAwAChCQAAwAChCQAAwAChCQAAwAChCQAAwMD/A1XN+6pOV4/uAAAAAElFTkSuQmCC\n"
          },
          "metadata": {}
        }
      ]
    },
    {
      "cell_type": "code",
      "source": [
        "# # Sample 20,000 rows while maintaining class balance\n",
        "# from sklearn.utils import resample\n",
        "\n",
        "# data_ham = data[data['label'] == 0]\n",
        "# data_phish = data[data['label'] == 1]\n",
        "\n",
        "# n_ham = int(0.5 * 20000)\n",
        "# n_phish = 20000 - n_ham\n",
        "\n",
        "# sampled_ham = resample(data_ham, replace=False, n_samples=n_ham, random_state=42)\n",
        "# sampled_phish = resample(data_phish, replace=False, n_samples=n_phish, random_state=42)\n",
        "\n",
        "# data = pd.concat([sampled_ham, sampled_phish]).sample(frac=1, random_state=42).reset_index(drop=True)\n",
        "\n",
        "# # Visualize distribution after sampling\n",
        "# label_counts_post = data['label'].value_counts()\n",
        "# sns.barplot(x=label_counts_post.index, y=label_counts_post.values)\n",
        "# plt.title(\"Class Distribution After Sampling 20,000 Rows\")\n",
        "# plt.xticks([0, 1], ['Ham', 'Phishing'])\n",
        "# plt.ylabel(\"Count\")\n",
        "# plt.savefig(\"label_distribution_after_sampling.png\")\n",
        "# plt.show()"
      ],
      "metadata": {
        "id": "nr6fzB-wfzUV"
      },
      "execution_count": 9,
      "outputs": []
    },
    {
      "cell_type": "code",
      "source": [
        "# 4. Train/Test Split\n",
        "train_texts, test_texts, train_labels, test_labels = train_test_split(\n",
        "    data['body'].tolist(), data['label'].tolist(), test_size=0.2, random_state=42)\n"
      ],
      "metadata": {
        "id": "mGeU7McOCkfg"
      },
      "execution_count": 10,
      "outputs": []
    },
    {
      "cell_type": "code",
      "source": [
        "# Check if GPU is available\n",
        "device = torch.device('cuda') if torch.cuda.is_available() else torch.device('cpu')\n",
        "print(f'Using device: {device}')"
      ],
      "metadata": {
        "colab": {
          "base_uri": "https://localhost:8080/",
          "height": 0
        },
        "id": "qkfZ-Bjvf-tL",
        "outputId": "a1935b96-a897-4321-a8e2-502ec725e01c"
      },
      "execution_count": 11,
      "outputs": [
        {
          "output_type": "stream",
          "name": "stdout",
          "text": [
            "Using device: cuda\n"
          ]
        }
      ]
    },
    {
      "cell_type": "code",
      "source": [
        "# 5. TF-IDF Feature Extraction\n",
        "vectorizer = TfidfVectorizer(stop_words='english', max_features=5000)\n",
        "X_train = vectorizer.fit_transform(train_texts)\n",
        "X_test = vectorizer.transform(test_texts)\n",
        "\n",
        "# Logistic Regression Model\n",
        "log_model = LogisticRegression(max_iter=1000)\n",
        "log_model.fit(X_train, train_labels)\n",
        "log_preds = log_model.predict(X_test)\n",
        "print(\"\\n=== Logistic Regression Evaluation (TF-IDF) ===\")\n",
        "print(classification_report(test_labels, log_preds))\n",
        "joblib.dump(log_model, 'logistic_regression_model.pkl')\n",
        "\n",
        "log_conf_matrix = confusion_matrix(test_labels, log_preds)\n",
        "sns.heatmap(log_conf_matrix, annot=True, fmt='d', cmap='Greens')\n",
        "plt.title('Confusion Matrix: Logistic Regression TF-IDF Model')\n",
        "plt.xlabel('Predicted')\n",
        "plt.ylabel('Actual')\n",
        "plt.savefig('logreg_confusion_matrix.png')\n",
        "plt.show()"
      ],
      "metadata": {
        "id": "qdKOdObACmag",
        "colab": {
          "base_uri": "https://localhost:8080/",
          "height": 663
        },
        "outputId": "d265d9f0-d681-4ec6-949c-723b02224a02"
      },
      "execution_count": 12,
